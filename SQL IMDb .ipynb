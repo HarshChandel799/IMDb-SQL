{
 "cells": [
  {
   "cell_type": "markdown",
   "id": "a239b523",
   "metadata": {},
   "source": [
    "Fetch the most voted movie in IMDB Movie Database"
   ]
  },
  {
   "cell_type": "code",
   "execution_count": 4,
   "id": "793c8f1f",
   "metadata": {},
   "outputs": [
    {
     "name": "stdout",
     "output_type": "stream",
     "text": [
      "Inception (2010) 8.8\n"
     ]
    }
   ],
   "source": [
    "import sqlite3\n",
    "import pandas as pd\n",
    "db  = sqlite3.connect('IMDB.sqlite')\n",
    "\n",
    "IMDB=pd.read_sql_query(\"select * from IMDB\",db)\n",
    "\n",
    "most_voted_movie_name=IMDB[IMDB[\"TotalVotes\"]==max(IMDB[\"TotalVotes\"])].values[0][1]\n",
    "most_voted_movie_rating=IMDB[IMDB[\"TotalVotes\"]==max(IMDB[\"TotalVotes\"])].values[0][2]\n",
    "\n",
    "print(most_voted_movie_name,most_voted_movie_rating)"
   ]
  },
  {
   "cell_type": "markdown",
   "id": "0471e192",
   "metadata": {},
   "source": [
    "Fetch the Movie with Longest-Running Time from IMDB Movie database"
   ]
  },
  {
   "cell_type": "code",
   "execution_count": 5,
   "id": "85bdb114",
   "metadata": {},
   "outputs": [
    {
     "name": "stdout",
     "output_type": "stream",
     "text": [
      "The Wolf of Wall Street (2013) 180\n"
     ]
    },
    {
     "name": "stderr",
     "output_type": "stream",
     "text": [
      "C:\\Users\\ajayc\\AppData\\Local\\Temp\\ipykernel_75656\\144770284.py:9: SettingWithCopyWarning: \n",
      "A value is trying to be set on a copy of a slice from a DataFrame\n",
      "\n",
      "See the caveats in the documentation: https://pandas.pydata.org/pandas-docs/stable/user_guide/indexing.html#returning-a-view-versus-a-copy\n",
      "  data.Runtime[i] = data.Runtime[i].split()\n",
      "C:\\Users\\ajayc\\AppData\\Local\\Temp\\ipykernel_75656\\144770284.py:11: SettingWithCopyWarning: \n",
      "A value is trying to be set on a copy of a slice from a DataFrame\n",
      "\n",
      "See the caveats in the documentation: https://pandas.pydata.org/pandas-docs/stable/user_guide/indexing.html#returning-a-view-versus-a-copy\n",
      "  data.Runtime[i] = ''.join(data.Runtime[i])\n",
      "C:\\Users\\ajayc\\AppData\\Local\\Temp\\ipykernel_75656\\144770284.py:12: SettingWithCopyWarning: \n",
      "A value is trying to be set on a copy of a slice from a DataFrame\n",
      "\n",
      "See the caveats in the documentation: https://pandas.pydata.org/pandas-docs/stable/user_guide/indexing.html#returning-a-view-versus-a-copy\n",
      "  data.Runtime[i] = int(float(data.Runtime[i]))\n",
      "C:\\Users\\ajayc\\AppData\\Local\\Temp\\ipykernel_75656\\144770284.py:7: SettingWithCopyWarning: \n",
      "A value is trying to be set on a copy of a slice from a DataFrame\n",
      "\n",
      "See the caveats in the documentation: https://pandas.pydata.org/pandas-docs/stable/user_guide/indexing.html#returning-a-view-versus-a-copy\n",
      "  data.Runtime[i] = 0\n"
     ]
    }
   ],
   "source": [
    "import sqlite3\n",
    "import pandas as pd\n",
    "db = sqlite3.connect('IMDB.sqlite')\n",
    "data = pd.read_sql_query('select * from IMDB',db)\n",
    "for i in range(len(data)):\n",
    "    if data.Runtime[i] == \"\":\n",
    "        data.Runtime[i] = 0\n",
    "    else :\n",
    "        data.Runtime[i] = data.Runtime[i].split()\n",
    "        data.Runtime[i].pop()\n",
    "        data.Runtime[i] = ''.join(data.Runtime[i])\n",
    "        data.Runtime[i] = int(float(data.Runtime[i]))\n",
    "maxRun = max(data.Runtime)\n",
    "for i in range(len(data)):\n",
    "    if data.Runtime[i] == maxRun :\n",
    "        print(data.Title[i],end=\" \")\n",
    "        print(data.Runtime[i])"
   ]
  },
  {
   "cell_type": "markdown",
   "id": "95fece09",
   "metadata": {},
   "source": [
    "Fetch the movie which has maximum net profit in IMDB Movie Database."
   ]
  },
  {
   "cell_type": "code",
   "execution_count": 6,
   "id": "0f668831",
   "metadata": {},
   "outputs": [
    {
     "name": "stdout",
     "output_type": "stream",
     "text": [
      "Star Wars: The Force Awakens (2015)\n"
     ]
    }
   ],
   "source": [
    "import pandas as pd\n",
    "import sqlite3\n",
    "db  = sqlite3.connect('IMDB.sqlite')\n",
    "data=pd.read_sql_query(\"select Title,Budget,Domestic,Worldwide from IMDB join earning on IMDB.Movie_id=earning.Movie_id\",db)\n",
    "data['Budget'] = pd.to_numeric(data['Budget'])\n",
    "data['totalEarn'] = data.Domestic + data.Worldwide \n",
    "data['Profit'] = data['totalEarn'] - data.Budget\n",
    "maxProfit = max(data.Profit)\n",
    "for i in range(len(data)):\n",
    "    if data.Profit[i] == maxProfit:\n",
    "        print(data.Title[i])\n",
    "        break\n",
    "    \n"
   ]
  },
  {
   "cell_type": "markdown",
   "id": "0957e61d",
   "metadata": {},
   "source": [
    "Fetch the least budgeted movie in IMDB Movie Database."
   ]
  },
  {
   "cell_type": "code",
   "execution_count": 7,
   "id": "cd0ffc58",
   "metadata": {},
   "outputs": [
    {
     "name": "stdout",
     "output_type": "stream",
     "text": [
      "Short Term 12 (2013)\n"
     ]
    }
   ],
   "source": [
    "import pandas as pd\n",
    "import sqlite3\n",
    "db  = sqlite3.connect('IMDB.sqlite')\n",
    "data=pd.read_sql_query(\"select Title,Budget,Domestic,Worldwide from IMDB join earning on IMDB.Movie_id=earning.Movie_id\",db)\n",
    "data['Budget'] = pd.to_numeric(data['Budget'])\n",
    "minBudget = min(data.Budget)\n",
    "l = []\n",
    "profit = []\n",
    "min = 10000000000000000000000000\n",
    "for i in range(len(data)):\n",
    "    if data.Budget[i] == minBudget:\n",
    "        val = data.Domestic[i] + data.Worldwide[i] - data.Budget[i]\n",
    "        l.append(i)\n",
    "        profit.append(val)\n",
    "max = max(profit)\n",
    "for q in range(len(l)):\n",
    "    if profit[q] == max:\n",
    "        v = l[q]\n",
    "        print(data.Title[v])\n",
    "        break"
   ]
  },
  {
   "cell_type": "markdown",
   "id": "8bfaa23a",
   "metadata": {},
   "source": [
    "Fetch the highest-grossing movie (i.e domestic earning + worldwide earning) in IMDB database year wise."
   ]
  },
  {
   "cell_type": "code",
   "execution_count": 8,
   "id": "ad034a2d",
   "metadata": {},
   "outputs": [
    {
     "name": "stdout",
     "output_type": "stream",
     "text": [
      "2010 Toy Story 3 (2010)\n",
      "2011 Rise of the Planet of the Apes (2011)\n",
      "2012 The Avengers (2012)\n",
      "2013 The Hunger Games: Catching Fire (2013)\n",
      "2014 Guardians of the Galaxy (2014)\n",
      "2015 Star Wars: The Force Awakens (2015)\n",
      "2016 Rogue One (2016)\n"
     ]
    }
   ],
   "source": [
    "import pandas as pd\n",
    "import sqlite3 as sql\n",
    "import numpy as np\n",
    "db=sql.connect('IMDB.sqlite')\n",
    "data1=pd.read_sql_query(\"Select * from IMDB\",db)\n",
    "data2=pd.read_sql_query(\"Select * from earning\",db)\n",
    "data2[\"Year\"]=data1[\"Title\"].apply(lambda x:int(x[-5:-1]))\n",
    "Year_li=list(data2[\"Year\"].unique())\n",
    "Year_li.sort()\n",
    "data2[\"Total_Earning\"]=data2[\"Domestic\"]+data2[\"Worldwide\"]\n",
    "for i in Year_li:\n",
    "    data3=data2[data2[\"Year\"]==i]\n",
    "    Max_fund=data3[\"Total_Earning\"].max()\n",
    "    Movie_id=data2[data2[\"Total_Earning\"]==Max_fund].iloc[0][0]\n",
    "    print(i,data1[data1[\"Movie_id\"]==Movie_id].iloc[0][1])\n",
    "    "
   ]
  },
  {
   "cell_type": "markdown",
   "id": "7389afb3",
   "metadata": {},
   "source": [
    "Fetch the percentage of the budget for each genre in IMDB Movie Dataset"
   ]
  },
  {
   "cell_type": "code",
   "execution_count": 9,
   "id": "2c1ff09b",
   "metadata": {},
   "outputs": [
    {
     "name": "stdout",
     "output_type": "stream",
     "text": [
      "Biography 2.45\n",
      "Drama 10.25\n",
      "History 0.68\n",
      "Adventure 23.7\n",
      "Comedy 6.82\n",
      "Romance 1.06\n",
      "Fantasy 4.29\n",
      " 5.56\n",
      "Action 16.98\n",
      "Mystery 1.84\n",
      "Sci-Fi 10.18\n",
      "Animation 7.23\n",
      "Thriller 3.77\n",
      "Sport 0.43\n",
      "Western 0.54\n",
      "Crime 1.67\n",
      "War 0.34\n",
      "Family 1.8\n",
      "Music 0.15\n",
      "Musical 0.24\n",
      "Horror 0.03\n"
     ]
    },
    {
     "data": {
      "image/png": "[encoded data removed]",
      "text/plain": [
       "<Figure size 432x288 with 1 Axes>"
      ]
     },
     "metadata": {},
     "output_type": "display_data"
    }
   ],
   "source": [
    "import sqlite3\n",
    "import pandas as pd\n",
    "import matplotlib.pyplot as plt\n",
    "db = sqlite3.connect('IMDB.sqlite')\n",
    "data = pd.read_sql_query('select genre,Budget from IMDB join genre on IMDB.Movie_id = genre.Movie_id',db)\n",
    "u = data['genre'].unique()\n",
    "d={}\n",
    "data['Budget'] = pd.to_numeric(data['Budget'])\n",
    "data.Budget= data.Budget.fillna(0)\n",
    "for i in range(len(data)):\n",
    "    if data.Budget[i] == \" \":\n",
    "        data.Budget[i] = 0\n",
    "    if data.genre[i] in d : \n",
    "        d[data.genre[i]] += data.Budget[i]\n",
    "    else:\n",
    "        d[data.genre[i]] = data.Budget[i]\n",
    "sum = data.Budget.sum()\n",
    "l = []\n",
    "for i in d :  \n",
    "    val = (d[i]/sum)*100\n",
    "    val = round(val,2)\n",
    "    d[i] = val \n",
    "    l.append(d[i])\n",
    "for i in d :\n",
    "    print(i,end=\" \")\n",
    "    print(d[i])\n",
    "plt.pie(l)\n",
    "plt.axis(\"equal\")\n",
    "plt.show()"
   ]
  },
  {
   "cell_type": "markdown",
   "id": "dfd3fa9b",
   "metadata": {},
   "source": [
    "Fetch the percentage of the total earning for each genre in IMDB Movie Dataset."
   ]
  },
  {
   "cell_type": "code",
   "execution_count": 10,
   "id": "f8c4dcf4",
   "metadata": {},
   "outputs": [
    {
     "name": "stdout",
     "output_type": "stream",
     "text": [
      "Action 17.91\n",
      "Adventure 23.57\n",
      "Animation 6.77\n",
      "Biography 3.42\n",
      "Comedy 7.69\n",
      "Crime 1.55\n",
      "Drama 11.96\n",
      "Mystery 2.01\n",
      "Family 1.05\n",
      "Fantasy 5.15\n",
      "History 1.04\n",
      "Horror 0.01\n",
      "Music 0.43\n",
      "Musical 0.38\n",
      "Romance 1.45\n",
      "Sci-Fi 9.95\n",
      "Sport 0.32\n",
      "Thriller 4.42\n",
      "War 0.25\n",
      "Western 0.65\n"
     ]
    }
   ],
   "source": [
    "import pandas as pd\n",
    "import sqlite3\n",
    "import numpy as np\n",
    "db=sqlite3.connect('IMDB.sqlite')\n",
    "imdb=pd.read_sql_query(\"Select * from IMDB\",db)\n",
    "earning=pd.read_sql_query(\"Select * from earning\",db)\n",
    "genre=pd.read_sql_query(\"Select * from genre\",db)\n",
    "movie_id=genre['Movie_id'].value_counts().index\n",
    "genre_array=[]\n",
    "for i in range(len(movie_id)):\n",
    "    single_genre=[]\n",
    "    single=genre[genre['Movie_id']==movie_id[i]]['genre'].values\n",
    "    single_genre.append(movie_id[i])\n",
    "    for i in single:\n",
    "        single_genre.append(i)\n",
    "    genre_array.append(single_genre)\n",
    "new_genre=pd.DataFrame(genre_array,columns=['Movie_id','genre_1','genre_2','genre_3'])\n",
    "result = pd.merge(imdb,new_genre,on='Movie_id')\n",
    "imdb_earning_genre=pd.merge(result,earning,on='Movie_id')\n",
    "imdb_earning_genre['Domestic'].replace('',0,inplace=True)\n",
    "imdb_earning_genre['Worldwide'].replace('',0,inplace=True)\n",
    "imdb_earning_genre['Total Earning']=imdb_earning_genre['Domestic']+imdb_earning_genre['Worldwide']\n",
    "genre_1_name=imdb_earning_genre.groupby('genre_1')['Total Earning'].sum().index\n",
    "genre_1_amount=imdb_earning_genre.groupby('genre_1')['Total Earning'].sum().values\n",
    "genre_2_name=imdb_earning_genre.groupby('genre_2')['Total Earning'].sum().index\n",
    "genre_2_amount=imdb_earning_genre.groupby('genre_2')['Total Earning'].sum().values\n",
    "genre_3_name=imdb_earning_genre.groupby('genre_3')['Total Earning'].sum().index\n",
    "genre_3_amount=imdb_earning_genre.groupby('genre_3')['Total Earning'].sum().values\n",
    "genre_name={}\n",
    "for i in range(len(genre_1_name)):\n",
    "    genre_name[genre_1_name[i]]=genre_1_amount[i]\n",
    "for i in range(len(genre_2_name)):\n",
    "    if genre_2_name[i] in genre_name:\n",
    "        genre_name[genre_2_name[i]]=genre_name.get(genre_2_name[i])+genre_2_amount[i]\n",
    "    else:\n",
    "        genre_name[genre_2_name[i]]=genre_2_amount[i]\n",
    "for i in range(len(genre_3_name)):\n",
    "    if genre_3_name[i] in genre_name:\n",
    "        genre_name[genre_3_name[i]]=genre_name.get(genre_3_name[i])+genre_3_amount[i]\n",
    "    else:\n",
    "        genre_name[genre_3_name[i]]=genre_3_amount[i]\n",
    "del genre_name['']\n",
    "genre_names=np.array(list(genre_name.keys()))\n",
    "genre_amount=np.array(list(genre_name.values()))\n",
    "perAmount=np.true_divide(genre_amount, genre_amount.sum())*100\n",
    "for i in range(len(genre_names)):\n",
    "    print(genre_names[i],format(perAmount[i],'.2f'))"
   ]
  },
  {
   "cell_type": "markdown",
   "id": "d976ed07",
   "metadata": {},
   "source": [
    "Fetch the movie which has genre of 'Sci-Fi' and 'Mystery' and movie rating is greater or equal to 8 from IMDB Movie Database"
   ]
  },
  {
   "cell_type": "code",
   "execution_count": 11,
   "id": "ca2fd56c",
   "metadata": {},
   "outputs": [
    {
     "name": "stdout",
     "output_type": "stream",
     "text": [
      "Arrival (2016)\n"
     ]
    }
   ],
   "source": [
    "import sqlite3 as sql\n",
    "import matplotlib.pyplot as plt\n",
    "import pandas as pd\n",
    "import numpy as np\n",
    "\n",
    "db=sql.connect('IMDB.sqlite')\n",
    "data1=pd.read_sql_query('Select * from genre',db)\n",
    "data2=pd.read_sql_query('Select * from IMDB',db)\n",
    "MovieId_li=list(data2[\"Movie_id\"].unique())\n",
    "Movie_name=\"\"\n",
    "for i in MovieId_li:\n",
    "    data3=data1[data1[\"Movie_id\"]==i]\n",
    "    genre_li=list(data3[\"genre\"])\n",
    "    if \"Sci-Fi\" in genre_li and \"Mystery\" in genre_li:\n",
    "        data4=data2[data2[\"Movie_id\"]==i]\n",
    "        if data4.iloc[0][2]>=8:\n",
    "            Movie_name=data4.iloc[0][1]\n",
    "            break\n",
    "print(Movie_name)            \n",
    "    "
   ]
  }
 ],
 "metadata": {
  "kernelspec": {
   "display_name": "Python 3 (ipykernel)",
   "language": "python",
   "name": "python3"
  },
  "language_info": {
   "codemirror_mode": {
    "name": "ipython",
    "version": 3
   },
   "file_extension": ".py",
   "mimetype": "text/x-python",
   "name": "python",
   "nbconvert_exporter": "python",
   "pygments_lexer": "ipython3",
   "version": "3.8.8"
  }
 },
 "nbformat": 4,
 "nbformat_minor": 5
}
